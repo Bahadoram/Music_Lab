{
 "cells": [
  {
   "cell_type": "markdown",
   "id": "444f7a1e",
   "metadata": {},
   "source": [
    "# MY MUSIC LAB\n",
    "\n",
    "#### Let's have some fun with music and python :D"
   ]
  },
  {
   "cell_type": "markdown",
   "id": "99a24f75",
   "metadata": {},
   "source": [
    "### CHORD PROGRESSION GENERATOR"
   ]
  },
  {
   "cell_type": "code",
   "execution_count": 7,
   "id": "0d2d91a9",
   "metadata": {},
   "outputs": [],
   "source": [
    "import numpy as np\n",
    "import numpy.random as npr"
   ]
  },
  {
   "cell_type": "code",
   "execution_count": 8,
   "id": "2cfac133",
   "metadata": {},
   "outputs": [],
   "source": [
    "def scale_generator(root, kind):\n",
    "    intervals  = scale_dict.get(kind)\n",
    "    scale      = [root]\n",
    "    root_index = np.where(note_dict== root)[0][0]\n",
    "    index = root_index\n",
    "    for i in intervals:\n",
    "        next_index = index + i*2\n",
    "        if next_index > 11: next_index = next_index - 12\n",
    "        scale.append(note_dict[int(next_index)]) \n",
    "        index = next_index\n",
    "    return scale"
   ]
  },
  {
   "cell_type": "code",
   "execution_count": 9,
   "id": "b3f9529e",
   "metadata": {},
   "outputs": [],
   "source": [
    "def chord_joiner(root, kind):\n",
    "    if kind   =='minor': chord = root + 'm'\n",
    "    elif kind =='dim'  : chord = root + 'dim'\n",
    "    else: chord = root \n",
    "    return chord"
   ]
  },
  {
   "cell_type": "code",
   "execution_count": 60,
   "id": "f76148ab",
   "metadata": {},
   "outputs": [],
   "source": [
    "def fifth_finder(note):\n",
    "    index= np.where(note_dict==note)[0][0]\n",
    "    for i in range(7):\n",
    "        index +=1\n",
    "        if index > 11:\n",
    "            index = 0\n",
    "    return note_dict[index]"
   ]
  },
  {
   "cell_type": "code",
   "execution_count": 128,
   "id": "38e42a55",
   "metadata": {},
   "outputs": [],
   "source": [
    "def chord_prog_gen(root, kind, feel, mode):\n",
    "    \n",
    "    scale      = scale_generator(root, kind)\n",
    "    r = npr.choice(np.arange(len(chord_prog_dict.get(feel))))\n",
    "    chord_patt = chord_prog_dict.get(feel)[r]\n",
    "    chord_prog = []\n",
    "    for i in chord_patt:\n",
    "        chord = chord_joiner(scale[i-1], chord_rule_dict.get(kind)[i-1])\n",
    "        chord_prog.append(chord)\n",
    "\n",
    "    \n",
    "    if CASE ==1:\n",
    "        \n",
    "        m_IV = False\n",
    "        if kind== 'major':\n",
    "            if chord_patt[-1] !=4 and np.any(np.array(chord_patt) == 4) == True:\n",
    "                fourth_index = np.where(np.array(chord_patt) == 4)[0][0]\n",
    "                if chord_patt[fourth_index + 1] == 1:\n",
    "                    chord = chord_joiner(scale[3], 'minor')\n",
    "                    chord_prog.insert(fourth_index + 1, chord + ' (m-IV)')\n",
    "                    m_IV= True \n",
    "                    \n",
    "        if m_IV == False:\n",
    "            if npr.rand() > 0.1:\n",
    "                rand = npr.choice([1,2])\n",
    "                degree = chord_patt[rand]\n",
    "                note = scale [degree -1]\n",
    "                p_fifth = fifth_finder(note)\n",
    "                chord = chord_joiner(p_fifth, 'major')\n",
    "                chord_prog.insert(rand , chord + ' (S-D)')\n",
    "                \n",
    "    print(chord_patt)\n",
    "    return chord_prog"
   ]
  },
  {
   "cell_type": "code",
   "execution_count": 107,
   "id": "c22ae79e",
   "metadata": {},
   "outputs": [],
   "source": [
    "#dictionaries and stuff\n",
    "note_dict       =     np.array(['C', 'Db', 'D', 'Eb', 'E', 'F', 'Gb', 'G', 'Ab', 'A', 'Bb', 'B'])\n",
    "scale_dict      =    {'major':[1, 1, 0.5, 1, 1, 1] , 'minor':[1, 0.5, 1, 1, 0.5, 1]}      \n",
    "chord_rule_dict =    {'major':['major', 'minor', 'minor', 'major', 'major', 'minor', 'dim' ], \n",
    "                      'minor':['minor', 'dim'  , 'major', 'minor', 'minor', 'major', 'major']}\n",
    "chord_prog_dict =    {'common':[[1,5,6,4],[6,4,1,5],[1,6,4,5],[1,5,4,5],[1,4,5,1],[1,2,4,1],[1,2,5,6]]}"
   ]
  },
  {
   "cell_type": "code",
   "execution_count": 146,
   "id": "2b1286cf",
   "metadata": {},
   "outputs": [],
   "source": [
    "root = 'C'\n",
    "kind = 'major'\n",
    "feel = 'common'\n",
    "mode = 'theory'\n",
    "CASE = 1"
   ]
  },
  {
   "cell_type": "code",
   "execution_count": 150,
   "id": "8ffa3c8c",
   "metadata": {},
   "outputs": [
    {
     "name": "stdout",
     "output_type": "stream",
     "text": [
      "[1, 5, 6, 4]\n"
     ]
    },
    {
     "data": {
      "text/plain": [
       "['C', 'G', 'E (S-D)', 'Am', 'F']"
      ]
     },
     "execution_count": 150,
     "metadata": {},
     "output_type": "execute_result"
    }
   ],
   "source": [
    "chord_prog_gen(root, kind, feel, mode)"
   ]
  }
 ],
 "metadata": {
  "kernelspec": {
   "display_name": "Python 3",
   "language": "python",
   "name": "python3"
  },
  "language_info": {
   "codemirror_mode": {
    "name": "ipython",
    "version": 3
   },
   "file_extension": ".py",
   "mimetype": "text/x-python",
   "name": "python",
   "nbconvert_exporter": "python",
   "pygments_lexer": "ipython3",
   "version": "3.8.8"
  }
 },
 "nbformat": 4,
 "nbformat_minor": 5
}
