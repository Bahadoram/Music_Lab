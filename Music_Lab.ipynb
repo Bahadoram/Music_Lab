{
 "cells": [
  {
   "cell_type": "markdown",
   "id": "444f7a1e",
   "metadata": {},
   "source": [
    "# MY MUSIC LAB\n",
    "\n",
    "#### Let's have some fun with music and python :D"
   ]
  },
  {
   "cell_type": "markdown",
   "id": "99a24f75",
   "metadata": {},
   "source": [
    "### CHORD PROGRESSION GENERATOR"
   ]
  },
  {
   "cell_type": "code",
   "execution_count": 1,
   "id": "0d2d91a9",
   "metadata": {},
   "outputs": [],
   "source": [
    "import numpy as np\n",
    "import numpy.random as npr"
   ]
  },
  {
   "cell_type": "code",
   "execution_count": 2,
   "id": "2cfac133",
   "metadata": {},
   "outputs": [],
   "source": [
    "def scale_generator(root, kind):\n",
    "    intervals  = scale_dict.get(kind)\n",
    "    scale      = [root]\n",
    "    root_index = np.where(note_dict== root)[0][0]\n",
    "    index = root_index\n",
    "    for i in intervals:\n",
    "        next_index = index + i*2\n",
    "        if next_index > 11: next_index = next_index - 12\n",
    "        scale.append(note_dict[int(next_index)]) \n",
    "        index = next_index\n",
    "    return scale"
   ]
  },
  {
   "cell_type": "code",
   "execution_count": 3,
   "id": "b3f9529e",
   "metadata": {},
   "outputs": [],
   "source": [
    "def chord_joiner(root, kind):\n",
    "    if kind   =='minor': chord = root + 'm'\n",
    "    elif kind =='dim'  : chord = root + 'dim'\n",
    "    else: chord = root \n",
    "    return chord"
   ]
  },
  {
   "cell_type": "code",
   "execution_count": 4,
   "id": "38e42a55",
   "metadata": {},
   "outputs": [],
   "source": [
    "def chord_prog_gen(root, kind, feel ='common'):\n",
    "    scale      = scale_generator(root, kind)\n",
    "    r = npr.choice(np.arange(len(chord_prog_dict.get(feel))))\n",
    "    chord_patt = chord_prog_dict.get(feel)[r]\n",
    "    chord_prog = []\n",
    "    for i in chord_patt:\n",
    "        chord = chord_joiner(scale[i-1], chord_rule_dict.get(kind)[i-1])\n",
    "        chord_prog.append(chord)\n",
    "    return chord_prog"
   ]
  },
  {
   "cell_type": "code",
   "execution_count": 6,
   "id": "c22ae79e",
   "metadata": {},
   "outputs": [],
   "source": [
    "#dictionaries and stuff\n",
    "note_dict       =     np.array(['C', 'Db', 'D', 'Eb', 'E', 'F', 'Gb', 'G', 'Ab', 'A', 'Bb', 'B'])\n",
    "scale_dict      =    {'major':[1, 1, 0.5, 1, 1, 1] , 'minor':[1, 0.5, 1, 1, 0.5, 1]}      \n",
    "chord_rule_dict =    {'major':['major', 'minor', 'minor', 'major', 'major', 'minor', 'dim' ], \n",
    "                      'minor':['minor', 'dim'  , 'major', 'minor', 'minor', 'major', 'major']}\n",
    "chord_prog_dict =    {'common':[[1,5,6,4],[6,4,1,5],[1,6,4,5],[1,5,4,5],[1,4,5,1],[1,2,4,1],[1,2,5,6]]}\n",
    "alternation_dict = {'secondary dominant':, 'neapolitan':, 'm(IV)':[]} \n",
    "\n"
   ]
  },
  {
   "cell_type": "code",
   "execution_count": 73,
   "id": "2b1286cf",
   "metadata": {},
   "outputs": [
    {
     "data": {
      "text/plain": [
       "['Fm', 'Cm', 'Bbm', 'Cm']"
      ]
     },
     "execution_count": 73,
     "metadata": {},
     "output_type": "execute_result"
    }
   ],
   "source": [
    "chord_prog_gen('F', 'minor')"
   ]
  }
 ],
 "metadata": {
  "kernelspec": {
   "display_name": "Python 3",
   "language": "python",
   "name": "python3"
  },
  "language_info": {
   "codemirror_mode": {
    "name": "ipython",
    "version": 3
   },
   "file_extension": ".py",
   "mimetype": "text/x-python",
   "name": "python",
   "nbconvert_exporter": "python",
   "pygments_lexer": "ipython3",
   "version": "3.8.8"
  }
 },
 "nbformat": 4,
 "nbformat_minor": 5
}
